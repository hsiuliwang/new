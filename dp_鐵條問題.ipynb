{
  "nbformat": 4,
  "nbformat_minor": 0,
  "metadata": {
    "colab": {
      "name": "1209-DP.ipynb",
      "provenance": [],
      "authorship_tag": "ABX9TyPHISeE5gDe5McoYNqJjilT",
      "include_colab_link": true
    },
    "kernelspec": {
      "name": "python3",
      "display_name": "Python 3"
    }
  },
  "cells": [
    {
      "cell_type": "markdown",
      "metadata": {
        "id": "view-in-github",
        "colab_type": "text"
      },
      "source": [
        "<a href=\"https://colab.research.google.com/github/hsiuliwang/new/blob/main/dp_%E9%90%B5%E6%A2%9D%E5%95%8F%E9%A1%8C.ipynb\" target=\"_parent\"><img src=\"https://colab.research.google.com/assets/colab-badge.svg\" alt=\"Open In Colab\"/></a>"
      ]
    },
    {
      "cell_type": "code",
      "metadata": {
        "id": "a6VzazUzWPvX"
      },
      "source": [
        "###鐵條問題\r\n",
        "##使用者輸入一個值\r\n",
        "\"\"\"\r\n",
        "鐵條切割問題 (Rod cutting problem)\r\n",
        "給⼀段長度為N(整數)單位的鐵條, 令i為任⼀正整數,假設p[i]表⽰長度\r\n",
        "為i的鐵條可以賣出的價格.試問應如何切割該鐵條使得其總賣價最⾼\r\n",
        "\"\"\""
      ],
      "execution_count": null,
      "outputs": []
    },
    {
      "cell_type": "code",
      "metadata": {
        "colab": {
          "base_uri": "https://localhost:8080/"
        },
        "id": "8a4ee_5jWRX0",
        "outputId": "e27ab667-c9d8-4022-bc2a-6ee60b7bbeab"
      },
      "source": [
        "# 自底向上\r\n",
        "def BottomUpCutRod(p, n):\r\n",
        "    r = [0]*(n+1)\r\n",
        "    for i in range(1, n+1):\r\n",
        "        if n == 0:\r\n",
        "            return 0\r\n",
        "        q =0\r\n",
        "        for j in range(1, i+1):  #將長度為 n 的鋼條分解為左邊開始一段，以及剩餘部分繼續分解的結果。簡化後的公式：Rn = max{1≤i≤n, (pi+Rn-i)}\r\n",
        "            q = max(q, p[j]+r[i-j])\r\n",
        "            r[i] = q\r\n",
        "    return r[n],r\r\n",
        "p=[0,1,5,8,9,10,17,17,20,24,30]\r\n",
        "number = int(input(\"Enter a number(長度為整數單位的鐵條):\"))\r\n",
        "print(BottomUpCutRod(p, number))   #  (30, [0, 1, 5, 8, 10, 13, 17, 18, 22, 25, 30])"
      ],
      "execution_count": null,
      "outputs": [
        {
          "output_type": "stream",
          "text": [
            "Enter a number(長度為整數單位的鐵條):4\n",
            "(10, [0, 1, 5, 8, 10])\n"
          ],
          "name": "stdout"
        }
      ]
    },
    {
      "cell_type": "markdown",
      "metadata": {
        "id": "uxUVx2r4YdVT"
      },
      "source": [
        "https://www.itread01.com/content/1547164838.html"
      ]
    }
  ]
}