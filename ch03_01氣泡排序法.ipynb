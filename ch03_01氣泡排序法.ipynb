{
 "cells": [
  {
   "cell_type": "code",
   "execution_count": 4,
   "metadata": {},
   "outputs": [
    {
     "name": "stdout",
     "output_type": "stream",
     "text": [
      "氣泡排序法:原始資料為:\n",
      " 16 25 39 27 12  8 45 63\n"
     ]
    }
   ],
   "source": [
    "data=[16,25,39,27,12,8,45,63]\n",
    "print('氣泡排序法:原始資料為:')\n",
    "\n",
    "for i in range(8):\n",
    "    print('%3d' %data[i],end='')\n",
    "print()"
   ]
  },
  {
   "cell_type": "code",
   "execution_count": 5,
   "metadata": {},
   "outputs": [
    {
     "name": "stdout",
     "output_type": "stream",
     "text": [
      "第1次排序後的結果是: 16 25 27 12  8 39 45 63\n",
      "第2次排序後的結果是: 16 25 12  8 27 39 45 63\n",
      "第3次排序後的結果是: 16 12  8 25 27 39 45 63\n",
      "第4次排序後的結果是: 12  8 16 25 27 39 45 63\n",
      "第5次排序後的結果是:  8 12 16 25 27 39 45 63\n",
      "第6次排序後的結果是:  8 12 16 25 27 39 45 63\n",
      "第7次排序後的結果是:  8 12 16 25 27 39 45 63\n",
      "第8次排序後的結果是:  8 12 16 25 27 39 45 63\n",
      "排序結果為:\n",
      "  8 12 16 25 27 39 45 63\n"
     ]
    }
   ],
   "source": [
    "for i in range(7,-1,-1): #掃描次數\n",
    "    for j in range(i):\n",
    "        if data[j]>data[j+1]: #比較，交換的次數\n",
    "            data[j],data[j+1]=data[j+1],data[j] #比較相鄰兩次數，如果第一數較大則交換\n",
    "    print('第%d次排序後的結果是:' %(8-i),end='')#把各次掃描後的結果印出\n",
    "    \n",
    "    for j in range(8):\n",
    "        print('%3d' %data[j],end='')\n",
    "    print()\n",
    "    \n",
    "print('排序結果為:')\n",
    "for j in range(8):\n",
    "    print('%3d' %data[j],end='')\n",
    "print()"
   ]
  },
  {
   "cell_type": "code",
   "execution_count": null,
   "metadata": {},
   "outputs": [],
   "source": []
  }
 ],
 "metadata": {
  "kernelspec": {
   "display_name": "Python 3",
   "language": "python",
   "name": "python3"
  },
  "language_info": {
   "codemirror_mode": {
    "name": "ipython",
    "version": 3
   },
   "file_extension": ".py",
   "mimetype": "text/x-python",
   "name": "python",
   "nbconvert_exporter": "python",
   "pygments_lexer": "ipython3",
   "version": "3.8.3"
  }
 },
 "nbformat": 4,
 "nbformat_minor": 4
}
