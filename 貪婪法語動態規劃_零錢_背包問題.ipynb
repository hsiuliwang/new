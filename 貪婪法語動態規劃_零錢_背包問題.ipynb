{
  "nbformat": 4,
  "nbformat_minor": 0,
  "metadata": {
    "colab": {
      "name": "new.ipynb",
      "provenance": [],
      "authorship_tag": "ABX9TyNaciQ1vvVjOAIume8uXTQR",
      "include_colab_link": true
    },
    "kernelspec": {
      "name": "python3",
      "display_name": "Python 3"
    }
  },
  "cells": [
    {
      "cell_type": "markdown",
      "metadata": {
        "id": "view-in-github",
        "colab_type": "text"
      },
      "source": [
        "<a href=\"https://colab.research.google.com/github/hsiuliwang/new/blob/main/%E8%B2%AA%E5%A9%AA%E6%B3%95%E8%AA%9E%E5%8B%95%E6%85%8B%E8%A6%8F%E5%8A%83_%E9%9B%B6%E9%8C%A2_%E8%83%8C%E5%8C%85%E5%95%8F%E9%A1%8C.ipynb\" target=\"_parent\"><img src=\"https://colab.research.google.com/assets/colab-badge.svg\" alt=\"Open In Colab\"/></a>"
      ]
    },
    {
      "cell_type": "markdown",
      "metadata": {
        "id": "68dUNhbeTPwx"
      },
      "source": [
        "零錢問題 /背包問題\n",
        "使用貪婪法與動態規劃"
      ]
    },
    {
      "cell_type": "code",
      "metadata": {
        "colab": {
          "base_uri": "https://localhost:8080/"
        },
        "id": "iq10xEgQRkND",
        "outputId": "f5cecc7e-5198-473c-bad2-3f0fccf0175f"
      },
      "source": [
        "#第一題第一小題\n",
        "####1每個都算(每一步驟印出來)\n",
        "####2改成輸入金額\n",
        "\n",
        "###t=面額\n",
        "t =[25,20,5,1]\n",
        "ymoney = int(input('請輸入數字:'))\n",
        "###n=多少錢\n",
        "def change(t,n):\n",
        "\n",
        "  m=[0 for _ in range(len(t))]  ##其中’_’是一個循環標誌\n",
        "  \n",
        "  for i,money in enumerate(t):\n",
        "    if money<ymoney:\n",
        "      m[i] = n//money ##//除法取整數\n",
        "      n=n%money\n",
        "      print(\"step\",i)\n",
        "      print(m,\"剩餘金額\",n)\n",
        "    #return m,n\n",
        "    \n",
        "change(t,ymoney)\n",
        "#print(change(t,41))"
      ],
      "execution_count": null,
      "outputs": [
        {
          "output_type": "stream",
          "text": [
            "請輸入數字:28\n",
            "step 0\n",
            "[1, 0, 0, 0] 剩餘金額 3\n",
            "step 1\n",
            "[1, 0, 0, 0] 剩餘金額 3\n",
            "step 2\n",
            "[1, 0, 0, 0] 剩餘金額 3\n",
            "step 3\n",
            "[1, 0, 0, 3] 剩餘金額 0\n"
          ],
          "name": "stdout"
        }
      ]
    },
    {
      "cell_type": "code",
      "metadata": {
        "id": "6UUgw_fSVhyP",
        "colab": {
          "base_uri": "https://localhost:8080/"
        },
        "outputId": "636d7124-7230-4e51-b7e0-a995dac4e1f3"
      },
      "source": [
        "#第一題第二小題 ##動態規劃\n",
        "def getMinCounts(k, values):\n",
        "    memo = [-1] * (k + 1)\n",
        "    memo[0] = 0 # 初始化狀態\n",
        "    print(memo)\n",
        "    for item in range(1, k + 1):\n",
        "      memo[item] = k + 1\n",
        "      \n",
        "    for item in range(1, k + 1):\n",
        "        for coin in values:\n",
        "            if (item - coin < 0):\n",
        "                continue\n",
        "            memo[item] = min(memo[item], memo[item - coin] + 1) # 作出決策\n",
        "           \n",
        "    print(memo)\n",
        "    \n",
        "    return memo[k]\n",
        "\n",
        "def getMinCountsDPSol():\n",
        "    values = [25,20,5,1] # 硬幣面值\n",
        "    total = 41 # 總值\n",
        "\n",
        "    # 求得最小的硬幣數量\n",
        "    print(\"總值\",total)\n",
        "    return getMinCounts(total, values) # 輸出答案\n",
        "\n",
        "def main():\n",
        "    result = getMinCountsDPSol()\n",
        "    print(\"最小硬幣數\",result)\n",
        "\n",
        "if __name__ == \"__main__\":\n",
        "    main()\n",
        "    "
      ],
      "execution_count": null,
      "outputs": [
        {
          "output_type": "stream",
          "text": [
            "總值 41\n",
            "[0, -1, -1, -1, -1, -1, -1, -1, -1, -1, -1, -1, -1, -1, -1, -1, -1, -1, -1, -1, -1, -1, -1, -1, -1, -1, -1, -1, -1, -1, -1, -1, -1, -1, -1, -1, -1, -1, -1, -1, -1, -1]\n",
            "[0, 1, 2, 3, 4, 1, 2, 3, 4, 5, 2, 3, 4, 5, 6, 3, 4, 5, 6, 7, 1, 2, 3, 4, 5, 1, 2, 3, 4, 5, 2, 3, 4, 5, 6, 3, 4, 5, 6, 7, 2, 3]\n",
            "最小硬幣數 3\n"
          ],
          "name": "stdout"
        }
      ]
    },
    {
      "cell_type": "code",
      "metadata": {
        "colab": {
          "base_uri": "https://localhost:8080/"
        },
        "id": "-ojeGrCETqcy",
        "outputId": "1b18644b-6d01-48a5-ef34-cecf219fc24b"
      },
      "source": [
        "#第二題第一小題 #背包問題 貪婪法\n",
        "\n",
        "def Initial():\n",
        "\t'''確定物品重量、價值和背包總重量'''\n",
        "\toption = input('是否選擇舊有資料（Y/N）: ')\n",
        "\tif option == 'Y':\n",
        "\t\tweight = [5, 1, 4, 3, 2]\n",
        "\t\tprice = [17000, 35000, 60000, 9000, 20000]\n",
        "\t\tC = 10\n",
        "\telse:\n",
        "\t\tweight = list(map(int, input('請輸入物品重量，用空格分開：').split( )))\n",
        "\t\tprice = list(map(int, input('請輸入相應的物品價值，用空格分開： ').split( )))\n",
        "\t\tC = int(input('請輸入背包總重量限制： '))\n",
        "\titem = list(zip(weight,price))\n",
        "\tprint('重量，價值：' + item.__str__() + '\\n總重量限制：' + C.__str__())\n",
        "\treturn item, C\n",
        "\n",
        "def Weight(item):\n",
        "\t'''選重量最小的物品'''\n",
        "\tdata = np.array(item)\n",
        "\tidex = np.lexsort([-1*data[:,1], data[:,0]])\n",
        "\treturn idex\n",
        "\n",
        "def Price(item):\n",
        "\t'''選價值最大的物品'''\t\n",
        "\tdata = np.array(item)\n",
        "\tidex = np.lexsort([data[:,0], -1*data[:,1]])\n",
        "\treturn idex\n",
        "\n",
        "\n",
        "def GreedyAlgo(item, C, idex):\n",
        "\t'''貪婪法'''\n",
        "\tnumber = len(item)\n",
        "\tstatus = [0] * number\n",
        "\ttotal_weight = 0\n",
        "\ttotal_value = 0\n",
        "\tfor i in range(number):     \n",
        "\t\tif item[idex[i],0] <= C:   ###判斷如果還沒有超過繼續找\n",
        "\t\t\ttotal_weight += item[idex[i],0]\n",
        "\t\t\ttotal_value += item[idex[i],1]\n",
        "\t\t\tstatus[idex[i]] = 1\n",
        "\t\t\tC -= item[idex[i],0]\n",
        "\t\telse:\n",
        "\t\t\tcontinue\n",
        "\treturn total_weight, total_value, status\n",
        "\n",
        "def main():\n",
        "\t'''主題結構'''\n",
        "\titem0, C = Initial()\n",
        "\titem = np.array(item0)\n",
        "\tidex_weight = Weight(item)\n",
        "\tidex_price = Price(item)\n",
        "\t\n",
        "\tresults_weight = GreedyAlgo(item, C, idex_weight)\n",
        "\tprint(\"results_weight\",\"選重量最小的物品\",results_weight)\n",
        "\tresults_Price = GreedyAlgo(item, C, idex_price)\n",
        "\tprint(\"results_Price\",\"選價值最大的物品\",results_Price,\"怎麼裝才能帶走最有價值的商品\")\n",
        "\t\n",
        "import numpy as np\n",
        "main()"
      ],
      "execution_count": null,
      "outputs": [
        {
          "output_type": "stream",
          "text": [
            "是否選擇舊有資料（Y/N）: Y\n",
            "重量，價值：[(5, 17000), (1, 35000), (4, 60000), (3, 9000), (2, 20000)]\n",
            "總重量限制：10\n",
            "results_weight 選重量最小的物品 (10, 124000, [0, 1, 1, 1, 1])\n",
            "results_Price 選價值最大的物品 (10, 124000, [0, 1, 1, 1, 1]) 怎麼裝才能帶走最有價值的商品\n"
          ],
          "name": "stdout"
        }
      ]
    },
    {
      "cell_type": "markdown",
      "metadata": {
        "id": "sCXELWxebKbE"
      },
      "source": [
        "https://blog.csdn.net/Xavier_8031/article/details/103442708"
      ]
    },
    {
      "cell_type": "code",
      "metadata": {
        "id": "w7vmIk6QbRd1",
        "colab": {
          "base_uri": "https://localhost:8080/"
        },
        "outputId": "b5470d07-f263-449f-8661-37a7ca27a8e3"
      },
      "source": [
        "#第二題第二小題 ##背包問題 動態規劃\n",
        "\n",
        "####################################################################################################################\n",
        "def bag(n,c,w,v):\n",
        "\tres=[[0 for j in range(c+1)] for i in range(n+1)]\n",
        "\tfor j in range(c+1):\n",
        "\t\tres[0][j]=0\n",
        "\tfor i in range(1,n+1):\t\t\n",
        "\t\tfor j in range(1,c+1):\t\t\t\n",
        "\t\t\tres[i][j]=res[i-1][j]\n",
        "\t\t\tif j>=w[i-1] and res[i][j]<res[i-1][j-w[i-1]]+v[i-1]:\n",
        "\t\t\t\tres[i][j]=res[i-1][j-w[i-1]]+v[i-1]\n",
        "\t\t\t\tprint(\"物品\",\"總重\",[i,j],\"價值\",res[i-1][j-w[i-1]],\"+\",v[i-1],\"共\",res[i][j])\n",
        "\t\tprint(res[i])\n",
        "\treturn res\n",
        "\n",
        "def show(n,c,w,res):\n",
        "\tprint('最大價值為:',res[n][c])\n",
        "\t\n",
        "if __name__=='__main__':\n",
        "\tn=5\n",
        "\tc=10\n",
        "\tw=[5, 1, 4, 3, 2]\n",
        "\tv=[17000, 35000, 60000, 9000, 20000]\n",
        "\tres=bag(n,c,w,v)\n",
        "\tshow(n,c,w,res)\n",
        " \t\n",
        "######################################################################################################################"
      ],
      "execution_count": null,
      "outputs": [
        {
          "output_type": "stream",
          "text": [
            "物品 總重 [1, 5] 價值 0 + 17000 共 17000\n",
            "物品 總重 [1, 6] 價值 0 + 17000 共 17000\n",
            "物品 總重 [1, 7] 價值 0 + 17000 共 17000\n",
            "物品 總重 [1, 8] 價值 0 + 17000 共 17000\n",
            "物品 總重 [1, 9] 價值 0 + 17000 共 17000\n",
            "物品 總重 [1, 10] 價值 0 + 17000 共 17000\n",
            "[0, 0, 0, 0, 0, 17000, 17000, 17000, 17000, 17000, 17000]\n",
            "物品 總重 [2, 1] 價值 0 + 35000 共 35000\n",
            "物品 總重 [2, 2] 價值 0 + 35000 共 35000\n",
            "物品 總重 [2, 3] 價值 0 + 35000 共 35000\n",
            "物品 總重 [2, 4] 價值 0 + 35000 共 35000\n",
            "物品 總重 [2, 5] 價值 0 + 35000 共 35000\n",
            "物品 總重 [2, 6] 價值 17000 + 35000 共 52000\n",
            "物品 總重 [2, 7] 價值 17000 + 35000 共 52000\n",
            "物品 總重 [2, 8] 價值 17000 + 35000 共 52000\n",
            "物品 總重 [2, 9] 價值 17000 + 35000 共 52000\n",
            "物品 總重 [2, 10] 價值 17000 + 35000 共 52000\n",
            "[0, 35000, 35000, 35000, 35000, 35000, 52000, 52000, 52000, 52000, 52000]\n",
            "物品 總重 [3, 4] 價值 0 + 60000 共 60000\n",
            "物品 總重 [3, 5] 價值 35000 + 60000 共 95000\n",
            "物品 總重 [3, 6] 價值 35000 + 60000 共 95000\n",
            "物品 總重 [3, 7] 價值 35000 + 60000 共 95000\n",
            "物品 總重 [3, 8] 價值 35000 + 60000 共 95000\n",
            "物品 總重 [3, 9] 價值 35000 + 60000 共 95000\n",
            "物品 總重 [3, 10] 價值 52000 + 60000 共 112000\n",
            "[0, 35000, 35000, 35000, 60000, 95000, 95000, 95000, 95000, 95000, 112000]\n",
            "物品 總重 [4, 8] 價值 95000 + 9000 共 104000\n",
            "物品 總重 [4, 9] 價值 95000 + 9000 共 104000\n",
            "[0, 35000, 35000, 35000, 60000, 95000, 95000, 95000, 104000, 104000, 112000]\n",
            "物品 總重 [5, 3] 價值 35000 + 20000 共 55000\n",
            "物品 總重 [5, 7] 價值 95000 + 20000 共 115000\n",
            "物品 總重 [5, 8] 價值 95000 + 20000 共 115000\n",
            "物品 總重 [5, 9] 價值 95000 + 20000 共 115000\n",
            "物品 總重 [5, 10] 價值 104000 + 20000 共 124000\n",
            "[0, 35000, 35000, 55000, 60000, 95000, 95000, 115000, 115000, 115000, 124000]\n",
            "最大價值為: 124000\n"
          ],
          "name": "stdout"
        }
      ]
    },
    {
      "cell_type": "markdown",
      "metadata": {
        "id": "z5RcXwBf8OT5"
      },
      "source": [
        "https://www.itread01.com/content/1546277404.html"
      ]
    },
    {
      "cell_type": "markdown",
      "metadata": {
        "id": "DWIfxrix8_to"
      },
      "source": [
        ""
      ]
    },
    {
      "cell_type": "code",
      "metadata": {
        "id": "yKTqgC9YNrTD"
      },
      "source": [
        "###找到背包動態規畫相關原理\n",
        "\"\"\"\n",
        "###1\n",
        "對於第i個物品i，兩種狀態:\n",
        "---- 1拿，背包容量减少wi，價值增加vi\n",
        "---- 2不拿，背包容量不變，價值不變，繼續考慮第i-1個物品\n",
        "\n",
        "V[i,j] 表示在面對第i件物品，且背包容量對為j時所能獲得的最大價值\n",
        "\n",
        "###2\n",
        "V[i,j]的計算方式分兩種情況：\n",
        "\n",
        "(1)j < w[i] ，這時候背包容量不足以放下第i件物品，只能選擇不拿，繼續考慮第i-1件物品，此時：\n",
        "V[i,j] = V[i-1,j]\n",
        "\n",
        "(2)j >= w[i] ，這時背包容量可以放下第i件物品，我們可以考慮拿或者不拿，分析怎樣價值更大：\n",
        "---- 1拿，V[i,j] = V[i-1,j-w[i]] + v[i]\n",
        "---- 2不拿，V[i,j] = V[i-1,j] , 同(1)\n",
        "\"\"\""
      ],
      "execution_count": null,
      "outputs": []
    },
    {
      "cell_type": "markdown",
      "metadata": {
        "id": "zzX8ggIN8_14"
      },
      "source": [
        "\n",
        "\n",
        "\n",
        "\n",
        "\n",
        "\n",
        "\n",
        "\n",
        ".."
      ]
    },
    {
      "cell_type": "markdown",
      "metadata": {
        "id": "IrJ2CEfE8_8K"
      },
      "source": [
        "\n",
        "\n",
        "> 以下為補充\n",
        "\n"
      ]
    },
    {
      "cell_type": "code",
      "metadata": {
        "colab": {
          "base_uri": "https://localhost:8080/"
        },
        "id": "V8DbDH5dEUDS",
        "outputId": "8e830d62-2a24-454e-b52b-75754e83806e"
      },
      "source": [
        "##動態規劃法\n",
        "#n = 5  #物品的數量\n",
        "#c = 10 #背包能承受的重量\n",
        "w = [5, 1, 4, 3, 2] #每個物品的重量\n",
        "v = [17000, 35000, 60000, 9000, 20000] #每個物品的價值\n",
        "\n",
        "def bag(n, c):\n",
        "    # 置零，表示初始狀態\n",
        "    value = [[0 for j in range(c + 1)] for i in range(n + 1)]\n",
        "    for i in range(1, n + 1):\n",
        "        for j in range(1, c + 1):\n",
        "            value[i][j] = value[i - 1][j]\n",
        "            # 背包總容量够放當前物體，遍歷前一個狀態考慮是否置换\n",
        "            if j >= w[i - 1] and value[i][j] < value[i - 1][j - w[i - 1]] + v[i - 1]:\n",
        "                value[i][j] = value[i - 1][j - w[i - 1]] + v[i - 1]\n",
        "    for x in value:\n",
        "        print(x)\n",
        "    print(\"最大價值為:\",value[i][j])\n",
        "    return value[i][j]\n",
        "\n",
        "print(bag(5,10))\n"
      ],
      "execution_count": null,
      "outputs": [
        {
          "output_type": "stream",
          "text": [
            "[0, 0, 0, 0, 0, 0, 0, 0, 0, 0, 0]\n",
            "[0, 0, 0, 0, 0, 17000, 17000, 17000, 17000, 17000, 17000]\n",
            "[0, 35000, 35000, 35000, 35000, 35000, 52000, 52000, 52000, 52000, 52000]\n",
            "[0, 35000, 35000, 35000, 60000, 95000, 95000, 95000, 95000, 95000, 112000]\n",
            "[0, 35000, 35000, 35000, 60000, 95000, 95000, 95000, 104000, 104000, 112000]\n",
            "[0, 35000, 35000, 55000, 60000, 95000, 95000, 115000, 115000, 115000, 124000]\n",
            "最大價值為: 124000\n",
            "124000\n"
          ],
          "name": "stdout"
        }
      ]
    },
    {
      "cell_type": "code",
      "metadata": {
        "colab": {
          "base_uri": "https://localhost:8080/"
        },
        "id": "Oqna0Zhj0twn",
        "outputId": "b2296b2c-c922-43d0-ff2d-3e80c70e7b8d"
      },
      "source": [
        "###補充###背包動態規劃法\n",
        "n, capacity = list(map(int, input().split()))\n",
        "ws = list(map(int, input().split()))\n",
        "vs = list(map(int, input().split()))\n",
        " \n",
        "ws = [0] + ws\n",
        "vs = [0] + vs\n",
        "dp = [[0]*(capacity+1) for i in range(n+1)] #dp[i][j]表示前i个物品，占据了j体积时的最优价值\n",
        " \n",
        "for i in range(1, n+1):\n",
        "    for j in range(1, capacity+1):\n",
        "        if ws[i]>j: #第i个物品放不下时，最优价值与前i-1个物品最优价值一致\n",
        "            dp[i][j] = dp[i-1][j]\n",
        "        else: #放得下时，因为要求放入i后剩余容量仍未j，那么势必有其他物品被取出，此时最大价值应考虑两部分：max(不放入i的最优价值，放i后的价值)\n",
        "            dp[i][j] = max(dp[i-1][j], dp[i-1][j-ws[i]]+vs[i])\n",
        "print(dp)\n",
        "print(dp[n][capacity])\n"
      ],
      "execution_count": null,
      "outputs": [
        {
          "output_type": "stream",
          "text": [
            "5 10 \n",
            " 5 1 4 3 2 \n",
            "17000 35000 60000 9000 20000\n",
            "[[0, 0, 0, 0, 0, 0, 0, 0, 0, 0, 0], [0, 0, 0, 0, 0, 17000, 17000, 17000, 17000, 17000, 17000], [0, 35000, 35000, 35000, 35000, 35000, 52000, 52000, 52000, 52000, 52000], [0, 35000, 35000, 35000, 60000, 95000, 95000, 95000, 95000, 95000, 112000], [0, 35000, 35000, 35000, 60000, 95000, 95000, 95000, 104000, 104000, 112000], [0, 35000, 35000, 55000, 60000, 95000, 95000, 115000, 115000, 115000, 124000]]\n",
            "124000\n"
          ],
          "name": "stdout"
        }
      ]
    },
    {
      "cell_type": "code",
      "metadata": {
        "colab": {
          "base_uri": "https://localhost:8080/"
        },
        "id": "tUcV35w7le_Y",
        "outputId": "47ce69e8-bc97-4f15-e9ae-7aef0cab46bc"
      },
      "source": [
        "###補充###背包動態規劃法\n",
        "#有n 個物品，它們有各自的重量和價值，現有給定容量的揹包，如何讓揹包裡裝入的物品具有最大的價值總和？\n",
        "#number＝4，capacity＝8   在程式中用n表示物品數量，用j表示剩餘容量\n",
        "w=[0,5,1,4,3,2]#表示重量\n",
        "v=[0,17000,35000,60000,9000,20000]#表示價值\n",
        "#列出模型遞推式\n",
        "# 1)噹噹前剩餘容量小於物品重量時，即 j<w(i)，此時不選擇該物品，價值不增加，和之前的價值一樣。V(i,j)=V(i-1,j)\n",
        "\n",
        "# 2)噹噹前剩餘容量大於物品重量時，即  j>=w(i)，此時鰾膠加與不加之間的價值大小，取最大值     V(i,j)=max｛V(i-1,j)，V(i-1,j-w(i))+v(i)}\n",
        "#先建表\n",
        "\n",
        "n= 5\n",
        "c= 10\n",
        "import numpy as np\n",
        "x = np.zeros([n+1,c+1])\n",
        "for i in range(1,n+1):\n",
        "    for j in range(c,0,-1):\n",
        "        if j<w[i]:\n",
        "          x[i,j] = x[i-1,j]\n",
        "        else:\n",
        "          x[i,j] = max(x[i-1,j],x[i-1,j-w[i]]+v[i])#前i-1個物品的最優解與第i個物品的價值之和更大\n",
        "print(x)\n",
        "\n",
        "#最優解即是x(number,capacity)=x(5,10)\n",
        "#下面如何回溯得到路徑\n",
        "item = [0]*(n+1)\n",
        "\n",
        "def find_which_item(i,j,item):\n",
        "    if i >=0:\n",
        "        if x[i,j] == x[i-1,j]:#表示沒選這個\n",
        "            item = find_which_item(i-1,j,item)\n",
        "        elif j-w[i]>=0 and x[i,j] == x[i-1,j-w[i]]+v[i]:\n",
        "            item[i] = 1\n",
        "            item = find_which_item(i-1,j-w[i],item)\n",
        "    return item\n",
        "#這裡的5 10 代表的是x(5,10)這裡的數字\n",
        "item = find_which_item(5,10,item)\n",
        "print(item)\n"
      ],
      "execution_count": null,
      "outputs": [
        {
          "output_type": "stream",
          "text": [
            "[[     0.      0.      0.      0.      0.      0.      0.      0.      0.\n",
            "       0.      0.]\n",
            " [     0.      0.      0.      0.      0.  17000.  17000.  17000.  17000.\n",
            "   17000.  17000.]\n",
            " [     0.  35000.  35000.  35000.  35000.  35000.  52000.  52000.  52000.\n",
            "   52000.  52000.]\n",
            " [     0.  35000.  35000.  35000.  60000.  95000.  95000.  95000.  95000.\n",
            "   95000. 112000.]\n",
            " [     0.  35000.  35000.  35000.  60000.  95000.  95000.  95000. 104000.\n",
            "  104000. 112000.]\n",
            " [     0.  35000.  35000.  55000.  60000.  95000.  95000. 115000. 115000.\n",
            "  115000. 124000.]]\n",
            "[0, 0, 1, 1, 1, 1]\n"
          ],
          "name": "stdout"
        }
      ]
    },
    {
      "cell_type": "code",
      "metadata": {
        "id": "6aBJQRRzeRxa",
        "colab": {
          "base_uri": "https://localhost:8080/"
        },
        "outputId": "8a0d2a39-ba24-48f1-aada-5f5a1ee0da69"
      },
      "source": [
        "###改\n",
        "\"\"\"\n",
        "五个商品，属性为 {价格 体积}, 体积限额为13, 求最大组合价值\n",
        "饼干：9    4\n",
        "啤酒：24   10\n",
        "汽水：2    3\n",
        "牛奶：9    4   \n",
        "面包：10   5\n",
        "\"\"\"\n",
        "store = ([0, 0], [17000,5], [35000,1], [60000,4], [9000,3], [20000,2])  # 商品属性数组\n",
        "Memo = [[None for _ in range(14)] for _ in range(6)]  # 构建备忘录数组\n",
        "Memo_B = [[0 for _ in range(14)] for _ in range(6)]\n",
        "Record = [[0 for _ in range(14)] for _ in range(6)]   # 商品选择记录(0：未选择, 1：选择)\n",
        "\n",
        "\n",
        "# 1 暴力枚举法：递归求解\n",
        "\n",
        "def fuck(i, v):\n",
        "    if v < 0:\n",
        "        return -10000\n",
        "    elif i <= 0:\n",
        "        return 0\n",
        "\n",
        "    P1 = fuck(i - 1, v - store[i][-1])  # 选择了这个商品\n",
        "    P2 = fuck(i - 1, v)  # 没有选择这个商品\n",
        "\n",
        "\n",
        "    return max((P1 + store[i][0]), P2)\n",
        "\n",
        "# 2 动态规划A :带备忘录的递归  自顶向下--自底向上\n",
        "\n",
        "def DPA_fuck(i, v):\n",
        "    if v < 0:\n",
        "        return -10000\n",
        "    elif i <= 0:\n",
        "        return 0\n",
        "\n",
        "    if Memo[i][v] is None:\n",
        "        P1 = DPA_fuck(i - 1, v - store[i][-1])  # 选择了这个商品\n",
        "        P2 = DPA_fuck(i - 1, v)  # 没有选择这个商品\n",
        "        Memo[i][v] = max((P1 + store[i][0]), P2)\n",
        "\n",
        "    return Memo[i][v]\n",
        "\n",
        "# 3 动态规划B :递推求解  自底向上\n",
        "\n",
        "def DPB_fuck(i, v):\n",
        "    for line in range(1, i+1):\n",
        "        pi = store[line][0]\n",
        "        vi = store[line][1]\n",
        "        for column in range(1, v+1):\n",
        "            if column >= vi and (pi + Memo_B[line-1][column-vi]) > Memo_B[line-1][column]:  # 1首先本列容量大于当前商品体积，\n",
        "                                                                                            # 2本商品价格与减去本商品体积后的背包最优解之和 大于 本商品之前的最优解\n",
        "                Memo_B[line][column] = pi + Memo_B[line-1][column-vi]   # 更新备忘录\n",
        "                Record[line][column] = 1                                # 记录此商品被选中\n",
        "            else:\n",
        "                Memo_B[line][column] = Memo_B[line-1][column]           # 此商品不选，继承之前的最优解\n",
        "\n",
        "    C = v\n",
        "    for k in range(5, 0, -1):\n",
        "        if Record[k][C]:\n",
        "            print(\"选择第{}个商品\".format(k))\n",
        "            C = C - store[k][1]\n",
        "\n",
        "    return Memo_B[i][v]\n",
        "\n",
        "\n",
        "\n",
        "if __name__ == '__main__':\n",
        "    print(\"现在开始\\n\")\n",
        "    #print(fuck(5, 10))\n",
        "\n",
        "    #print(DPA_fuck(5, 10))\n",
        "    #for i in range(len(Memo)):\n",
        "      #print(Memo[i])\n",
        "    print(DPB_fuck(5, 10))"
      ],
      "execution_count": null,
      "outputs": [
        {
          "output_type": "stream",
          "text": [
            "现在开始\n",
            "\n",
            "选择第5个商品\n",
            "选择第4个商品\n",
            "选择第3个商品\n",
            "选择第2个商品\n",
            "124000\n"
          ],
          "name": "stdout"
        }
      ]
    },
    {
      "cell_type": "markdown",
      "metadata": {
        "id": "rJGYTspPHO5-"
      },
      "source": [
        "w共10\n",
        "1(5) 2(1) 3(4) 112000\n",
        "1(5) 4(3) 5(2) 28000\n",
        "2(1) 3(4) 4(3) 5(2) 124000\n",
        "\n",
        "\n"
      ]
    },
    {
      "cell_type": "code",
      "metadata": {
        "id": "ozclYJB_OyU2"
      },
      "source": [
        ""
      ],
      "execution_count": null,
      "outputs": []
    }
  ]
}