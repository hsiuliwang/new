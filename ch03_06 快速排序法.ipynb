{
 "cells": [
  {
   "cell_type": "code",
   "execution_count": 2,
   "metadata": {},
   "outputs": [
    {
     "name": "stdout",
     "output_type": "stream",
     "text": [
      "請輸入陣列大小(100以下):8\n",
      "您輸入的原始資料是:\n",
      "  3 74 98 65 64 68 52 20\n",
      "排序過程如下:\n",
      "  3 74 98 65 64 68 52 20\n",
      "  3 52 20 65 64 68 74 98\n",
      "  3 20 52 65 64 68 74 98\n",
      "  3 20 52 64 65 68 74 98\n",
      "最終排序結果:\n",
      "  3 20 52 64 65 68 74 98\n"
     ]
    }
   ],
   "source": [
    "import random\n",
    "\n",
    "def inputarr(data,size):\n",
    "    for i in range(size):\n",
    "        data[i]=random.randint(1,100)\n",
    "def showdata(data,size):\n",
    "    for i in range(size):\n",
    "        print('%3d' %data[i],end='')\n",
    "    print()\n",
    "    \n",
    "def quick(d,size,lf,rg):\n",
    "    #第一筆鍵值為d[lf]\n",
    "    if lf<rg: #排序資料的左邊與右邊\n",
    "        lf_idx=lf+1\n",
    "        while d[lf_idx]< d[lf]: \n",
    "            if lf_idx+1 >size:\n",
    "                break\n",
    "            lf_idx +=1\n",
    "        rg_idx =rg\n",
    "        while d[rg_idx] >d[lf]:\n",
    "            rg_idx -=1\n",
    "        while lf_idx<rg_idx:\n",
    "            d[lf_idx],d[rg_idx]=d[rg_idx],d[lf_idx]\n",
    "            lf_idx+=1\n",
    "            while d[lf_idx]<d[lf]:\n",
    "                lf_idx +=1\n",
    "            rg_idx -=1\n",
    "            while d[rg_idx] >d[lf]:\n",
    "                rg_idx -=1\n",
    "        d[lf],d[rg_idx]=d[rg_idx],d[lf]\n",
    "        for i in range(size):\n",
    "            print('%3d' %d[i],end='')\n",
    "        print()\n",
    "        \n",
    "        quick(d,size,lf,rg_idx-1) #以rg_idx為基準點分成左右兩半以遞迴方式\n",
    "        quick(d,size,rg_idx+1,rg) #分別為左右兩半進行排序直到完成排序\n",
    "        \n",
    "def main():\n",
    "    data=[0]*100\n",
    "    size =int(input('請輸入陣列大小(100以下):'))\n",
    "    inputarr (data,size)\n",
    "    print('您輸入的原始資料是:')\n",
    "    showdata(data,size)\n",
    "    print('排序過程如下:')\n",
    "    quick(data,size,0,size-1)\n",
    "    print('最終排序結果:')\n",
    "    showdata(data,size)\n",
    "    \n",
    "main()"
   ]
  },
  {
   "cell_type": "code",
   "execution_count": null,
   "metadata": {},
   "outputs": [],
   "source": []
  }
 ],
 "metadata": {
  "kernelspec": {
   "display_name": "Python 3",
   "language": "python",
   "name": "python3"
  },
  "language_info": {
   "codemirror_mode": {
    "name": "ipython",
    "version": 3
   },
   "file_extension": ".py",
   "mimetype": "text/x-python",
   "name": "python",
   "nbconvert_exporter": "python",
   "pygments_lexer": "ipython3",
   "version": "3.8.3"
  }
 },
 "nbformat": 4,
 "nbformat_minor": 4
}
