{
 "cells": [
  {
   "cell_type": "code",
   "execution_count": 3,
   "metadata": {},
   "outputs": [
    {
     "name": "stdout",
     "output_type": "stream",
     "text": [
      "2\n"
     ]
    }
   ],
   "source": [
    "output=[None]*1000 #fibonacci的暫存區\n",
    "def Fibonacci(n):\n",
    "    result=output[n]\n",
    "    \n",
    "    if result == None:\n",
    "        if n==0:\n",
    "            result=0\n",
    "        elif n==1:\n",
    "            result=1\n",
    "        else:\n",
    "            result=Fibonacci(n-1)+Fibonacci(n-2)\n",
    "        output[n]=result\n",
    "    return result\n",
    "print(Fibonacci(3))"
   ]
  },
  {
   "cell_type": "code",
   "execution_count": null,
   "metadata": {},
   "outputs": [],
   "source": []
  }
 ],
 "metadata": {
  "kernelspec": {
   "display_name": "Python 3",
   "language": "python",
   "name": "python3"
  },
  "language_info": {
   "codemirror_mode": {
    "name": "ipython",
    "version": 3
   },
   "file_extension": ".py",
   "mimetype": "text/x-python",
   "name": "python",
   "nbconvert_exporter": "python",
   "pygments_lexer": "ipython3",
   "version": "3.8.3"
  }
 },
 "nbformat": 4,
 "nbformat_minor": 4
}
