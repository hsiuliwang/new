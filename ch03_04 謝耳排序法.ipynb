{
 "cells": [
  {
   "cell_type": "code",
   "execution_count": 1,
   "metadata": {},
   "outputs": [
    {
     "name": "stdout",
     "output_type": "stream",
     "text": [
      "原始陣列是:\n",
      " 16 25 39 27 12  8 45 63\n",
      "---------------------------------\n",
      "第 1次排序過程: 12  8 39 27 16 25 45 63\n",
      "--------------------------------\n",
      "第 2次排序過程: 12  8 16 25 39 27 45 63\n",
      "--------------------------------\n",
      "第 3次排序過程:  8 12 16 25 27 39 45 63\n",
      "--------------------------------\n"
     ]
    }
   ],
   "source": [
    "SIZE=8\n",
    "def showdata(data):\n",
    "    for i in range(SIZE):\n",
    "        print('%3d' %data[i],end='')\n",
    "    print()\n",
    "\n",
    "def shell(data,size):\n",
    "    k=1 #k列印計數\n",
    "    jmp=size//2\n",
    "    while jmp!=0:\n",
    "        for i in range(jmp,size): #為掃描次數jmp為設定間距位移量\n",
    "            tmp=data[i] #tmp用來暫存資料\n",
    "            j=i-jmp #以j來定位比較元素\n",
    "            while tmp<data[j] and j>=0: #插入排序法\n",
    "                data[j+jmp] =data[j]\n",
    "                j=j-jmp\n",
    "            data[jmp+j]=tmp\n",
    "        print('第 %d次排序過程:' %k,end='')\n",
    "        k+=1\n",
    "        showdata(data)\n",
    "        print('--------------------------------')\n",
    "        jmp=jmp//2 #控制迴圈數\n",
    "        \n",
    "def main():\n",
    "    data=[16,25,39,27,12,8,45,63]\n",
    "    print('原始陣列是:')\n",
    "    showdata(data)\n",
    "    print('---------------------------------')\n",
    "    shell(data,SIZE)\n",
    "    \n",
    "main()"
   ]
  },
  {
   "cell_type": "code",
   "execution_count": null,
   "metadata": {},
   "outputs": [],
   "source": []
  }
 ],
 "metadata": {
  "kernelspec": {
   "display_name": "Python 3",
   "language": "python",
   "name": "python3"
  },
  "language_info": {
   "codemirror_mode": {
    "name": "ipython",
    "version": 3
   },
   "file_extension": ".py",
   "mimetype": "text/x-python",
   "name": "python",
   "nbconvert_exporter": "python",
   "pygments_lexer": "ipython3",
   "version": "3.8.3"
  }
 },
 "nbformat": 4,
 "nbformat_minor": 4
}
