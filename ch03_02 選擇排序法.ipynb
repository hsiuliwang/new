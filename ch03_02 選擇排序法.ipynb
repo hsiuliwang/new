{
 "cells": [
  {
   "cell_type": "code",
   "execution_count": 6,
   "metadata": {},
   "outputs": [
    {
     "name": "stdout",
     "output_type": "stream",
     "text": [
      "原始資料為:\n",
      " 16 25 39 27 12  8 45 63\n",
      "---------------------------------\n",
      "\n",
      "排序後的資料\n",
      "  8 12 16 25 27 39 45 63\n"
     ]
    }
   ],
   "source": [
    "def showdata(data):\n",
    "    for i in range(8):\n",
    "        print('%3d' %data[i],end='')\n",
    "    print()\n",
    "def select (data):\n",
    "    for i in range(7):\n",
    "        for j in range(i+1,8):\n",
    "            \n",
    "            if data[i]>data[j]: #比較第i及第j個元素\n",
    "                data[i],data[j]=data[j],data[i]\n",
    "                \n",
    "    print()\n",
    "\n",
    "data=[16,25,39,27,12,8,45,63]\n",
    "print('原始資料為:')\n",
    "for i in range(8):\n",
    "    print('%3d' %data[i],end='')\n",
    "print('\\n---------------------------------')\n",
    "select(data)\n",
    "print('排序後的資料')\n",
    "for i in range(8):\n",
    "    print('%3d' %data[i],end='')\n",
    "print('')"
   ]
  },
  {
   "cell_type": "code",
   "execution_count": null,
   "metadata": {},
   "outputs": [],
   "source": []
  }
 ],
 "metadata": {
  "kernelspec": {
   "display_name": "Python 3",
   "language": "python",
   "name": "python3"
  },
  "language_info": {
   "codemirror_mode": {
    "name": "ipython",
    "version": 3
   },
   "file_extension": ".py",
   "mimetype": "text/x-python",
   "name": "python",
   "nbconvert_exporter": "python",
   "pygments_lexer": "ipython3",
   "version": "3.8.3"
  }
 },
 "nbformat": 4,
 "nbformat_minor": 4
}
