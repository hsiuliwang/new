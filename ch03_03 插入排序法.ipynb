{
 "cells": [
  {
   "cell_type": "code",
   "execution_count": 2,
   "metadata": {},
   "outputs": [
    {
     "name": "stdout",
     "output_type": "stream",
     "text": [
      "原始陣列是:\n",
      " 16 25 39 27 12  8 45 63\n",
      "排序後陣列是:\n",
      " 16  8 12 25 27 39 45 63\n"
     ]
    }
   ],
   "source": [
    "SIZE=8\n",
    "def showdata(data):\n",
    "    for i in range(SIZE):\n",
    "        print('%3d' %data[i],end='') \n",
    "    print()\n",
    "    \n",
    "def insert(data):\n",
    "    for i in range(1,SIZE):\n",
    "        tmp=data[i]\n",
    "        no=i-1\n",
    "        while no>0 and tmp<data[no]:\n",
    "            data[no+1]=data[no]\n",
    "            no-=1\n",
    "            data[no+1]=tmp\n",
    "def main():\n",
    "    data=[16,25,39,27,12,8,45,63]\n",
    "    print('原始陣列是:')\n",
    "    showdata(data)\n",
    "    insert(data)\n",
    "    print('排序後陣列是:')\n",
    "    showdata(data)\n",
    "    \n",
    "main()\n"
   ]
  },
  {
   "cell_type": "code",
   "execution_count": null,
   "metadata": {},
   "outputs": [],
   "source": []
  }
 ],
 "metadata": {
  "kernelspec": {
   "display_name": "Python 3",
   "language": "python",
   "name": "python3"
  },
  "language_info": {
   "codemirror_mode": {
    "name": "ipython",
    "version": 3
   },
   "file_extension": ".py",
   "mimetype": "text/x-python",
   "name": "python",
   "nbconvert_exporter": "python",
   "pygments_lexer": "ipython3",
   "version": "3.8.3"
  }
 },
 "nbformat": 4,
 "nbformat_minor": 4
}
