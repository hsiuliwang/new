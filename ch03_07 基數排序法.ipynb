{
 "cells": [
  {
   "cell_type": "code",
   "execution_count": 5,
   "metadata": {},
   "outputs": [
    {
     "name": "stdout",
     "output_type": "stream",
     "text": [
      "請輸入陣列大小(100以下):10\n",
      "您輸入的原始資料是:\n",
      "  409  572  494  981   49  417  789  270  131  482\n",
      "經過         1位數排序後:  409  572  494  981   49  417  789  270  131  482\n",
      "經過        10位數排序後:  572  409  494  981   49  417  789  270  131  482\n",
      "經過       100位數排序後:  494  572  409  981   49  417  789  270  131  482\n",
      "經過      1000位數排序後:  981  494  572  409   49  417  789  270  131  482\n",
      "經過     10000位數排序後:  981   49  494  572  409  417  789  270  131  482\n",
      "經過    100000位數排序後:  981   49  417  494  572  409  789  270  131  482\n",
      "經過   1000000位數排序後:  981   49  417  789  494  572  409  270  131  482\n",
      "經過  10000000位數排序後:  981   49  417  789  270  494  572  409  131  482\n",
      "經過 100000000位數排序後:  981   49  417  789  270  131  494  572  409  482\n",
      "經過1000000000位數排序後:  981   49  417  789  270  131  482  494  572  409\n"
     ]
    }
   ],
   "source": [
    "import random\n",
    "\n",
    "def inputarr(data,size):\n",
    "    for i in range(size):\n",
    "        data[i]=random.randint(0,999) #設定data 值最大為3位數\n",
    "\n",
    "def showdata(data,size):\n",
    "    for i in range(size):\n",
    "        print('%5d' %data[i],end='')\n",
    "    print()\n",
    "    \n",
    "def radix(data,size):\n",
    "    n=1 #n為基數，由個位數開始排序\n",
    "    while n<=100:\n",
    "        tmp=[[0]*100 for row in range(10)] #設定暫存陣列，[0~9位數][資料個數]，所有內容均為0\n",
    "        for i in range(size): #比對所有資料\n",
    "            m=(data[i]//n)%10 #m為n位數的值，如36取十位數 (36/10)%10=3\n",
    "            tmp[m][i]=data[i] #把data[i]的值暫存於tmp裡\n",
    "            k=0\n",
    "            for i in range(10):\n",
    "                for j in range(size):\n",
    "                    if tmp[i][j] !=0: #因一開始設定tmp={0}，故不為0者即為\n",
    "                        data[k]=tmp[i][j]#data暫存在tmp裡的值，把tmp裡的值放\n",
    "                        k+=1 #回data[ ]裡\n",
    "            print('經過%10d位數排序後:'%n,end='')\n",
    "            showdata(data,size)\n",
    "            n=10*n\n",
    "def main():\n",
    "    data=[0]*100\n",
    "    size=int(input('請輸入陣列大小(100以下):'))\n",
    "    print('您輸入的原始資料是:')\n",
    "    inputarr(data,size)\n",
    "    showdata(data,size)\n",
    "    radix(data,size)\n",
    "    \n",
    "main()"
   ]
  },
  {
   "cell_type": "code",
   "execution_count": null,
   "metadata": {},
   "outputs": [],
   "source": []
  }
 ],
 "metadata": {
  "kernelspec": {
   "display_name": "Python 3",
   "language": "python",
   "name": "python3"
  },
  "language_info": {
   "codemirror_mode": {
    "name": "ipython",
    "version": 3
   },
   "file_extension": ".py",
   "mimetype": "text/x-python",
   "name": "python",
   "nbconvert_exporter": "python",
   "pygments_lexer": "ipython3",
   "version": "3.8.3"
  }
 },
 "nbformat": 4,
 "nbformat_minor": 4
}
